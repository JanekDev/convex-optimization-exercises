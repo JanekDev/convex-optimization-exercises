{
 "cells": [
  {
   "cell_type": "markdown",
   "metadata": {},
   "source": [
    "# Elements of convex analysis\n",
    "\n",
    "## Class 1b: Taylor expansion and Newton method\n",
    "\n",
    "The purpose of this notebook is to play with Taylor's series. The notebook will use helper functions to create and draw functions (in [ex1b_helpers.py](ex1b_helpers.py) file, but there is no need to look at it).\n",
    "\n",
    "This exercise requires **numpy**, **matplotlib**  libraries,  **autograd** might be also helpful."
   ]
  },
  {
   "cell_type": "code",
   "execution_count": null,
   "metadata": {
    "pycharm": {
     "name": "#%%\n"
    }
   },
   "outputs": [],
   "source": [
    "# a line making the graphs show up in the notebook\n",
    "# you can safely ignore it (but run it!).\n",
    "%matplotlib inline\n"
   ]
  },
  {
   "cell_type": "markdown",
   "metadata": {
    "pycharm": {
     "name": "#%% md\n"
    }
   },
   "source": [
    "# Remider what Taylor's series around point $x_0$ looks like:\n",
    "$P_m(x,x_0) = \\sum\\limits_{i=0}^{m}\\frac{f^{(i)}(x_0)}{i!}(x-x_0)^i $\n",
    "\n",
    "During implementation remember that factorial and $(x-x_0)^i$ both grow\n",
    "exponentially fast so perhaps it's not a good idea to update them separately."
   ]
  },
  {
   "cell_type": "markdown",
   "metadata": {},
   "source": [
    "# Task 1\n",
    "Find e (the math constant) using your knowledge about all derivatives of e and it's value at some known point"
   ]
  },
  {
   "cell_type": "code",
   "execution_count": null,
   "metadata": {
    "pycharm": {
     "name": "#%%\n"
    }
   },
   "outputs": [],
   "source": [
    "import numpy as np\n",
    "def find_e(n):\n",
    "    return 1\n",
    "print(find_e(20), np.e)"
   ]
  },
  {
   "cell_type": "markdown",
   "metadata": {},
   "source": [
    "# Task 2\n",
    "Implement taylor expansion (for arbitrary function?) and visualize some approximations."
   ]
  },
  {
   "cell_type": "code",
   "execution_count": null,
   "metadata": {
    "pycharm": {
     "name": "#%%\n"
    }
   },
   "outputs": [],
   "source": [
    "import numpy as np\n",
    "from matplotlib import pyplot as plt\n",
    "\n",
    "# handy function which takes original function and it's approximation\n",
    "# and plots it from <a> to <b> using <points_num> number of points\n",
    "def visualize(f, f_approx,a=-3,b=3,points_num=100,):\n",
    "        x = np.linspace(a,b,points_num)\n",
    "        f = f(x)\n",
    "        f_approx = np.array([f_approx(xi) for xi in x])\n",
    "\n",
    "        plt.plot(x, f,label=\"f(x)\")\n",
    "        plt.plot(x, f_approx, label=\"approximation\")\n",
    "        plt.legend()\n",
    "        plt.show()"
   ]
  },
  {
   "cell_type": "code",
   "execution_count": null,
   "metadata": {
    "pycharm": {
     "name": "#%%\n"
    }
   },
   "outputs": [],
   "source": [
    "def fake_taylor_expansion(x, x_0, func, n):\n",
    "    #implement this here\n",
    "    return 1"
   ]
  },
  {
   "cell_type": "code",
   "execution_count": null,
   "metadata": {
    "pycharm": {
     "name": "#%%\n"
    }
   },
   "outputs": [],
   "source": [
    "import autograd.numpy as anp\n",
    "import autograd\n",
    "func = anp.exp\n",
    "# func = anp.sin #from -4,4 perhaps?\n",
    "\n",
    "degree = 7\n",
    "a,b = -5,5\n",
    "\n",
    "\n",
    "my_approx_f = lambda x: fake_taylor_expansion(x, 0, func, n=degree)\n",
    "\n",
    "visualize(f=func,\n",
    "              f_approx=my_approx_f,\n",
    "              a=a,b=b,\n",
    "              points_num=100)"
   ]
  }
 ],
 "metadata": {
  "kernelspec": {
   "display_name": "Python 3",
   "language": "python",
   "name": "python3"
  },
  "language_info": {
   "codemirror_mode": {
    "name": "ipython",
    "version": 3
   },
   "file_extension": ".py",
   "mimetype": "text/x-python",
   "name": "python",
   "nbconvert_exporter": "python",
   "pygments_lexer": "ipython3",
   "version": "3.8.5"
  }
 },
 "nbformat": 4,
 "nbformat_minor": 1
}