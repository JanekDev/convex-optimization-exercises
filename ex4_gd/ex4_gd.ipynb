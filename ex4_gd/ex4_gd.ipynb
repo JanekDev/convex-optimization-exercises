{
 "cells": [
  {
   "cell_type": "markdown",
   "metadata": {},
   "source": [
    "# Elements of convex analysis\n",
    "\n",
    "\n",
    "The purpose of this notebook is to implement Gradient Descent.\n",
    "The notebook will use helper functions to draw functions (in [ex4_helpers.py](ex4_helpers.py) file, but there is no need to look at it).\n",
    "\n",
    "This exercise requires **numpy**, **matplotlib**, **seaborn** and **autograd** libraries (unless you want to implement gradient yourself).\n"
   ]
  },
  {
   "cell_type": "code",
   "execution_count": null,
   "metadata": {},
   "outputs": [],
   "source": [
    "# a line making the graphs show up in the notebook\n",
    "# you can safely ignore it (but run it!).\n",
    "%matplotlib inline\n",
    "\n",
    "# Some important imports (for drawing):\n",
    "from ex4_helpers import plot_steps_1d, plot_steps_2d\n",
    "\n",
    "import numpy as np\n",
    "from autograd import grad\n",
    "import autograd.numpy as anp\n"
   ]
  },
  {
   "cell_type": "markdown",
   "metadata": {},
   "source": [
    "## Sample random walk for presentation\n"
   ]
  },
  {
   "cell_type": "code",
   "execution_count": null,
   "metadata": {
    "pycharm": {
     "name": "#%%\n"
    }
   },
   "outputs": [],
   "source": [
    "# takes initial point and function (ignores function) and takes 10 random steps\n",
    "# it works regardless of dimensionality\n",
    "def random_walk(f, x0, steps=10):\n",
    "    x = np.array(x0)\n",
    "    points = [x]\n",
    "    for _ in range(steps):\n",
    "        x = x + (np.random.random(np.shape(x)) - 0.5) * 2\n",
    "        points.append(x)\n",
    "    return points"
   ]
  },
  {
   "cell_type": "markdown",
   "metadata": {},
   "source": [
    "## How to plot 1d"
   ]
  },
  {
   "cell_type": "code",
   "execution_count": null,
   "metadata": {
    "pycharm": {
     "name": "#%%\n"
    }
   },
   "outputs": [],
   "source": [
    "f = lambda x:(x-1)**2\n",
    "x0 = 0.0\n",
    "points = random_walk(f, x0)\n",
    "plot_steps_1d(f, points)"
   ]
  },
  {
   "cell_type": "markdown",
   "metadata": {},
   "source": [
    "## How to plot 2d"
   ]
  },
  {
   "cell_type": "code",
   "execution_count": null,
   "metadata": {
    "pycharm": {
     "name": "#%%\n"
    }
   },
   "outputs": [],
   "source": [
    "f = lambda x:x@x\n",
    "x0 = np.zeros(2)\n",
    "points = random_walk(f, x0)\n",
    "plot_steps_2d(f, points)"
   ]
  },
  {
   "cell_type": "markdown",
   "metadata": {
    "collapsed": true,
    "pycharm": {
     "name": "#%% md\n"
    }
   },
   "source": [
    "## Your gradient descent implementation:\n",
    "\n"
   ]
  },
  {
   "cell_type": "code",
   "execution_count": null,
   "metadata": {},
   "outputs": [],
   "source": [
    "def gd(f, x0, learning_rate=0.1, other_args=\"???\"):\n",
    "    raise NotImplementedError()\n"
   ]
  },
  {
   "cell_type": "markdown",
   "metadata": {},
   "source": [
    "# Test sample functions in 1d:"
   ]
  },
  {
   "cell_type": "code",
   "execution_count": null,
   "metadata": {
    "pycharm": {
     "name": "#%%\n"
    }
   },
   "outputs": [],
   "source": [
    "f = lambda x:(x-1)**2\n",
    "# f = lambda x:-(x-1)**2\n",
    "# f = lambda x: x\n",
    "# f = lambda x: (x-1) ** 2 + 4 * (0.5 * anp.sin((x-1) * 10)) ** 2\n",
    "\n",
    "x0 =0.0\n",
    "points = gd(f, x0, learning_rate=0.1)\n",
    "plot_steps_1d(f, points)\n"
   ]
  },
  {
   "cell_type": "markdown",
   "metadata": {
    "pycharm": {
     "name": "#%% md\n"
    }
   },
   "source": [
    "# Check if 2d functions work as well\n"
   ]
  },
  {
   "cell_type": "code",
   "execution_count": null,
   "metadata": {
    "pycharm": {
     "name": "#%%\n"
    }
   },
   "outputs": [],
   "source": [
    "f = lambda x: x@x\n",
    "# f = lambda x: -x@x\n",
    "# f = lambda x: np.array([1,2])*x@x\n",
    "# f = lambda x: np.array([1,5])*x@x\n",
    "\n",
    "x0 = np.random.random(2)*6 - 3\n",
    "points = gd(f, x0, learning_rate=0.1)\n",
    "plot_steps_2d(f, points)\n",
    "\n",
    "\n",
    "\n"
   ]
  },
  {
   "cell_type": "markdown",
   "metadata": {},
   "source": [
    "# Cachy method\n",
    "Implement cachy method for 2d and compare it to gd? Why is it pointless to implement 1d version?\n",
    "\n",
    "Implementation hint: you may reuse 1d optimization method implementations to find best eta in each step."
   ]
  },
  {
   "cell_type": "code",
   "execution_count": null,
   "metadata": {
    "pycharm": {
     "name": "#%%\n"
    }
   },
   "outputs": [],
   "source": [
    "def cauchy(f, x0, other_args=\"???\"):\n",
    "    raise NotImplementedError()"
   ]
  },
  {
   "cell_type": "code",
   "execution_count": null,
   "metadata": {
    "pycharm": {
     "name": "#%%\n"
    }
   },
   "outputs": [],
   "source": [
    "f = lambda x: x@x\n",
    "# f = lambda x: -x@x\n",
    "# f = lambda x: np.array([1,2])*x@x\n",
    "# f = lambda x: np.array([1,10])*x@x\n",
    "\n",
    "x0 = np.random.random(2)*6 - 3\n",
    "gd_points = gd(f, x0, learning_rate=0.1)\n",
    "cauchy_points = cauchy(f,x0)\n",
    "plot_steps_2d(f, gd_points)\n",
    "plot_steps_2d(f, cauchy_points)\n"
   ]
  }
 ],
 "metadata": {
  "kernelspec": {
   "display_name": "Python 3",
   "language": "python",
   "name": "python3"
  },
  "language_info": {
   "codemirror_mode": {
    "name": "ipython",
    "version": 3
   },
   "file_extension": ".py",
   "mimetype": "text/x-python",
   "name": "python",
   "nbconvert_exporter": "python",
   "pygments_lexer": "ipython3",
   "version": "3.8.5"
  }
 },
 "nbformat": 4,
 "nbformat_minor": 1
}